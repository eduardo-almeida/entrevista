{
 "cells": [
  {
   "cell_type": "code",
   "execution_count": 1,
   "metadata": {},
   "outputs": [],
   "source": [
    "import pandas as pd\n",
    "import numpy as np\n",
    "\n",
    "import json"
   ]
  },
  {
   "cell_type": "code",
   "execution_count": 2,
   "metadata": {},
   "outputs": [],
   "source": [
    "with open('data/source_file_2.json') as f:\n",
    "    data = json.load(f)"
   ]
  },
  {
   "cell_type": "code",
   "execution_count": 3,
   "metadata": {},
   "outputs": [],
   "source": [
    "data = pd.DataFrame(data)"
   ]
  },
  {
   "cell_type": "code",
   "execution_count": 4,
   "metadata": {},
   "outputs": [
    {
     "data": {
      "text/html": [
       "<div>\n",
       "<style scoped>\n",
       "    .dataframe tbody tr th:only-of-type {\n",
       "        vertical-align: middle;\n",
       "    }\n",
       "\n",
       "    .dataframe tbody tr th {\n",
       "        vertical-align: top;\n",
       "    }\n",
       "\n",
       "    .dataframe thead th {\n",
       "        text-align: right;\n",
       "    }\n",
       "</style>\n",
       "<table border=\"1\" class=\"dataframe\">\n",
       "  <thead>\n",
       "    <tr style=\"text-align: right;\">\n",
       "      <th></th>\n",
       "      <th>managers</th>\n",
       "      <th>name</th>\n",
       "      <th>priority</th>\n",
       "      <th>watchers</th>\n",
       "    </tr>\n",
       "  </thead>\n",
       "  <tbody>\n",
       "    <tr>\n",
       "      <th>0</th>\n",
       "      <td>[csaftoiu, merlin]</td>\n",
       "      <td>[CV] [Qt] OpenCV GUI</td>\n",
       "      <td>850</td>\n",
       "      <td>[merlin, morris]</td>\n",
       "    </tr>\n",
       "    <tr>\n",
       "      <th>1</th>\n",
       "      <td>[merlin]</td>\n",
       "      <td>[Web] pm-site</td>\n",
       "      <td>260</td>\n",
       "      <td>[csaftoiu, jpfarias, morris]</td>\n",
       "    </tr>\n",
       "    <tr>\n",
       "      <th>2</th>\n",
       "      <td>[luanda]</td>\n",
       "      <td>Annotations</td>\n",
       "      <td>10</td>\n",
       "      <td>[csaftoiu, merlin, victor]</td>\n",
       "    </tr>\n",
       "    <tr>\n",
       "      <th>3</th>\n",
       "      <td>[csaftoiu]</td>\n",
       "      <td>[OCR] tesseract MRZ reading</td>\n",
       "      <td>560</td>\n",
       "      <td>[arturc, merlin]</td>\n",
       "    </tr>\n",
       "    <tr>\n",
       "      <th>4</th>\n",
       "      <td>[morris]</td>\n",
       "      <td>Deepgammon</td>\n",
       "      <td>150</td>\n",
       "      <td>[merlin, victor]</td>\n",
       "    </tr>\n",
       "  </tbody>\n",
       "</table>\n",
       "</div>"
      ],
      "text/plain": [
       "             managers                          name  priority  \\\n",
       "0  [csaftoiu, merlin]          [CV] [Qt] OpenCV GUI       850   \n",
       "1            [merlin]                 [Web] pm-site       260   \n",
       "2            [luanda]                   Annotations        10   \n",
       "3          [csaftoiu]  [OCR] tesseract MRZ reading        560   \n",
       "4            [morris]                    Deepgammon       150   \n",
       "\n",
       "                       watchers  \n",
       "0              [merlin, morris]  \n",
       "1  [csaftoiu, jpfarias, morris]  \n",
       "2    [csaftoiu, merlin, victor]  \n",
       "3              [arturc, merlin]  \n",
       "4              [merlin, victor]  "
      ]
     },
     "execution_count": 4,
     "metadata": {},
     "output_type": "execute_result"
    }
   ],
   "source": [
    "data.head()"
   ]
  },
  {
   "cell_type": "code",
   "execution_count": 5,
   "metadata": {},
   "outputs": [],
   "source": [
    "data = data.sort_values(by=['priority'])"
   ]
  },
  {
   "cell_type": "code",
   "execution_count": 6,
   "metadata": {},
   "outputs": [
    {
     "data": {
      "text/html": [
       "<div>\n",
       "<style scoped>\n",
       "    .dataframe tbody tr th:only-of-type {\n",
       "        vertical-align: middle;\n",
       "    }\n",
       "\n",
       "    .dataframe tbody tr th {\n",
       "        vertical-align: top;\n",
       "    }\n",
       "\n",
       "    .dataframe thead th {\n",
       "        text-align: right;\n",
       "    }\n",
       "</style>\n",
       "<table border=\"1\" class=\"dataframe\">\n",
       "  <thead>\n",
       "    <tr style=\"text-align: right;\">\n",
       "      <th></th>\n",
       "      <th>managers</th>\n",
       "      <th>name</th>\n",
       "      <th>priority</th>\n",
       "      <th>watchers</th>\n",
       "    </tr>\n",
       "  </thead>\n",
       "  <tbody>\n",
       "    <tr>\n",
       "      <th>30</th>\n",
       "      <td>[merlin]</td>\n",
       "      <td>[ID-VERIFY-PIPELINE] Passport finder</td>\n",
       "      <td>2400</td>\n",
       "      <td>[csaftoiu, jpfarias, morris]</td>\n",
       "    </tr>\n",
       "    <tr>\n",
       "      <th>31</th>\n",
       "      <td>[merlin]</td>\n",
       "      <td>[CHATBOT] rodrigo</td>\n",
       "      <td>2405</td>\n",
       "      <td>[csaftoiu, jpfarias, morris]</td>\n",
       "    </tr>\n",
       "    <tr>\n",
       "      <th>32</th>\n",
       "      <td>[ariel, merlin]</td>\n",
       "      <td>[BG-CLUB-SITE] frontend</td>\n",
       "      <td>2435</td>\n",
       "      <td>[csaftoiu, jpfarias, morris]</td>\n",
       "    </tr>\n",
       "    <tr>\n",
       "      <th>35</th>\n",
       "      <td>[merlin]</td>\n",
       "      <td>[INHOUSE-TOOLS] NN-Webapp 2</td>\n",
       "      <td>2520</td>\n",
       "      <td>[csaftoiu, jpfarias, merlin, morris]</td>\n",
       "    </tr>\n",
       "    <tr>\n",
       "      <th>38</th>\n",
       "      <td>[csaftoiu, morris]</td>\n",
       "      <td>matchbook parser - mfilho</td>\n",
       "      <td>2575</td>\n",
       "      <td>[jpfarias, merlin]</td>\n",
       "    </tr>\n",
       "  </tbody>\n",
       "</table>\n",
       "</div>"
      ],
      "text/plain": [
       "              managers                                  name  priority  \\\n",
       "30            [merlin]  [ID-VERIFY-PIPELINE] Passport finder      2400   \n",
       "31            [merlin]                     [CHATBOT] rodrigo      2405   \n",
       "32     [ariel, merlin]               [BG-CLUB-SITE] frontend      2435   \n",
       "35            [merlin]           [INHOUSE-TOOLS] NN-Webapp 2      2520   \n",
       "38  [csaftoiu, morris]             matchbook parser - mfilho      2575   \n",
       "\n",
       "                                watchers  \n",
       "30          [csaftoiu, jpfarias, morris]  \n",
       "31          [csaftoiu, jpfarias, morris]  \n",
       "32          [csaftoiu, jpfarias, morris]  \n",
       "35  [csaftoiu, jpfarias, merlin, morris]  \n",
       "38                    [jpfarias, merlin]  "
      ]
     },
     "execution_count": 6,
     "metadata": {},
     "output_type": "execute_result"
    }
   ],
   "source": [
    "data.tail()"
   ]
  },
  {
   "cell_type": "code",
   "execution_count": 7,
   "metadata": {},
   "outputs": [],
   "source": [
    "new_dataframe = pd.DataFrame()\n",
    "index =0 \n",
    "for i, row in data.iterrows():\n",
    "    for x in row['managers']:\n",
    "        for y in row['watchers']:\n",
    "            new_dataframe.loc[index, 'managers'] = x\n",
    "            new_dataframe.loc[index, 'name'] = row['name']\n",
    "            new_dataframe.loc[index, 'priority'] = row['priority']        \n",
    "            new_dataframe.loc[index, 'watchers'] = y\n",
    "            index += 1"
   ]
  },
  {
   "cell_type": "code",
   "execution_count": 8,
   "metadata": {},
   "outputs": [
    {
     "data": {
      "text/html": [
       "<div>\n",
       "<style scoped>\n",
       "    .dataframe tbody tr th:only-of-type {\n",
       "        vertical-align: middle;\n",
       "    }\n",
       "\n",
       "    .dataframe tbody tr th {\n",
       "        vertical-align: top;\n",
       "    }\n",
       "\n",
       "    .dataframe thead th {\n",
       "        text-align: right;\n",
       "    }\n",
       "</style>\n",
       "<table border=\"1\" class=\"dataframe\">\n",
       "  <thead>\n",
       "    <tr style=\"text-align: right;\">\n",
       "      <th></th>\n",
       "      <th>managers</th>\n",
       "      <th>name</th>\n",
       "      <th>priority</th>\n",
       "      <th>watchers</th>\n",
       "    </tr>\n",
       "  </thead>\n",
       "  <tbody>\n",
       "    <tr>\n",
       "      <th>117</th>\n",
       "      <td>merlin</td>\n",
       "      <td>[INHOUSE-TOOLS] NN-Webapp 2</td>\n",
       "      <td>2520.0</td>\n",
       "      <td>morris</td>\n",
       "    </tr>\n",
       "    <tr>\n",
       "      <th>118</th>\n",
       "      <td>csaftoiu</td>\n",
       "      <td>matchbook parser - mfilho</td>\n",
       "      <td>2575.0</td>\n",
       "      <td>jpfarias</td>\n",
       "    </tr>\n",
       "    <tr>\n",
       "      <th>119</th>\n",
       "      <td>csaftoiu</td>\n",
       "      <td>matchbook parser - mfilho</td>\n",
       "      <td>2575.0</td>\n",
       "      <td>merlin</td>\n",
       "    </tr>\n",
       "    <tr>\n",
       "      <th>120</th>\n",
       "      <td>morris</td>\n",
       "      <td>matchbook parser - mfilho</td>\n",
       "      <td>2575.0</td>\n",
       "      <td>jpfarias</td>\n",
       "    </tr>\n",
       "    <tr>\n",
       "      <th>121</th>\n",
       "      <td>morris</td>\n",
       "      <td>matchbook parser - mfilho</td>\n",
       "      <td>2575.0</td>\n",
       "      <td>merlin</td>\n",
       "    </tr>\n",
       "  </tbody>\n",
       "</table>\n",
       "</div>"
      ],
      "text/plain": [
       "     managers                         name  priority  watchers\n",
       "117    merlin  [INHOUSE-TOOLS] NN-Webapp 2    2520.0    morris\n",
       "118  csaftoiu    matchbook parser - mfilho    2575.0  jpfarias\n",
       "119  csaftoiu    matchbook parser - mfilho    2575.0    merlin\n",
       "120    morris    matchbook parser - mfilho    2575.0  jpfarias\n",
       "121    morris    matchbook parser - mfilho    2575.0    merlin"
      ]
     },
     "execution_count": 8,
     "metadata": {},
     "output_type": "execute_result"
    }
   ],
   "source": [
    "new_dataframe.tail()"
   ]
  },
  {
   "cell_type": "markdown",
   "metadata": {},
   "source": [
    "# Managers"
   ]
  },
  {
   "cell_type": "code",
   "execution_count": 9,
   "metadata": {},
   "outputs": [],
   "source": [
    "managers = pd.DataFrame()"
   ]
  },
  {
   "cell_type": "code",
   "execution_count": 10,
   "metadata": {},
   "outputs": [],
   "source": [
    "managers['managers'] = new_dataframe['managers'].unique()"
   ]
  },
  {
   "cell_type": "code",
   "execution_count": 11,
   "metadata": {},
   "outputs": [],
   "source": [
    "for index, x in enumerate (managers['managers']):\n",
    "    #print(index, ' = ', x)\n",
    "    teste = new_dataframe[(new_dataframe['managers'] == x)][['name', 'priority']]\n",
    "    managers.loc[index, 'name'] = teste['name'].unique()"
   ]
  },
  {
   "cell_type": "code",
   "execution_count": 34,
   "metadata": {},
   "outputs": [],
   "source": [
    "out = managers.to_json(orient='values')[1:-1].replace('},{', '} {')"
   ]
  },
  {
   "cell_type": "code",
   "execution_count": 35,
   "metadata": {},
   "outputs": [],
   "source": [
    "with open('managers.json', 'w') as f:\n",
    "    f.write(out)"
   ]
  },
  {
   "cell_type": "code",
   "execution_count": 25,
   "metadata": {},
   "outputs": [
    {
     "data": {
      "text/html": [
       "<div>\n",
       "<style scoped>\n",
       "    .dataframe tbody tr th:only-of-type {\n",
       "        vertical-align: middle;\n",
       "    }\n",
       "\n",
       "    .dataframe tbody tr th {\n",
       "        vertical-align: top;\n",
       "    }\n",
       "\n",
       "    .dataframe thead th {\n",
       "        text-align: right;\n",
       "    }\n",
       "</style>\n",
       "<table border=\"1\" class=\"dataframe\">\n",
       "  <thead>\n",
       "    <tr style=\"text-align: right;\">\n",
       "      <th></th>\n",
       "      <th>managers</th>\n",
       "      <th>name</th>\n",
       "    </tr>\n",
       "  </thead>\n",
       "  <tbody>\n",
       "    <tr>\n",
       "      <th>0</th>\n",
       "      <td>luanda</td>\n",
       "      <td>Annotations</td>\n",
       "    </tr>\n",
       "    <tr>\n",
       "      <th>1</th>\n",
       "      <td>merlin</td>\n",
       "      <td>[[EXECUTIVE] Merlin, [Web] pm-site, [ID-VERIFY...</td>\n",
       "    </tr>\n",
       "    <tr>\n",
       "      <th>2</th>\n",
       "      <td>morris</td>\n",
       "      <td>[sportsparsers - 22bet, sportsparsers - esport...</td>\n",
       "    </tr>\n",
       "    <tr>\n",
       "      <th>3</th>\n",
       "      <td>victor</td>\n",
       "      <td>[morris bg data gathering]</td>\n",
       "    </tr>\n",
       "    <tr>\n",
       "      <th>4</th>\n",
       "      <td>csaftoiu</td>\n",
       "      <td>[sportsparsers - pinnacle API, [OCR] tesseract...</td>\n",
       "    </tr>\n",
       "  </tbody>\n",
       "</table>\n",
       "</div>"
      ],
      "text/plain": [
       "   managers                                               name\n",
       "0    luanda                                        Annotations\n",
       "1    merlin  [[EXECUTIVE] Merlin, [Web] pm-site, [ID-VERIFY...\n",
       "2    morris  [sportsparsers - 22bet, sportsparsers - esport...\n",
       "3    victor                         [morris bg data gathering]\n",
       "4  csaftoiu  [sportsparsers - pinnacle API, [OCR] tesseract..."
      ]
     },
     "execution_count": 25,
     "metadata": {},
     "output_type": "execute_result"
    }
   ],
   "source": [
    "managers.head()"
   ]
  },
  {
   "cell_type": "markdown",
   "metadata": {},
   "source": [
    "# Watchers"
   ]
  },
  {
   "cell_type": "code",
   "execution_count": 14,
   "metadata": {},
   "outputs": [],
   "source": [
    "watchers = pd.DataFrame()"
   ]
  },
  {
   "cell_type": "code",
   "execution_count": 15,
   "metadata": {},
   "outputs": [],
   "source": [
    "watchers['watchers'] = new_dataframe['watchers'].unique()"
   ]
  },
  {
   "cell_type": "code",
   "execution_count": 18,
   "metadata": {
    "scrolled": true
   },
   "outputs": [],
   "source": [
    "for index, x in enumerate (watchers['watchers']):\n",
    "    #print(index, ' = ', x)\n",
    "    aux_watchers = new_dataframe[(new_dataframe['watchers'] == x)][['name', 'priority']]\n",
    "    watchers.loc[index, 'name'] = aux_watchers['name'].unique()"
   ]
  },
  {
   "cell_type": "code",
   "execution_count": 19,
   "metadata": {},
   "outputs": [],
   "source": [
    "watchers.to_json(r'watchers.json')"
   ]
  },
  {
   "cell_type": "code",
   "execution_count": 31,
   "metadata": {},
   "outputs": [],
   "source": [
    "out = watchers.to_json(orient='values')[1:-1].replace('},{', '} {')"
   ]
  },
  {
   "cell_type": "code",
   "execution_count": 32,
   "metadata": {},
   "outputs": [],
   "source": [
    "with open('watchers.json', 'w') as f:\n",
    "    f.write(out)"
   ]
  },
  {
   "cell_type": "code",
   "execution_count": 33,
   "metadata": {},
   "outputs": [
    {
     "data": {
      "text/html": [
       "<div>\n",
       "<style scoped>\n",
       "    .dataframe tbody tr th:only-of-type {\n",
       "        vertical-align: middle;\n",
       "    }\n",
       "\n",
       "    .dataframe tbody tr th {\n",
       "        vertical-align: top;\n",
       "    }\n",
       "\n",
       "    .dataframe thead th {\n",
       "        text-align: right;\n",
       "    }\n",
       "</style>\n",
       "<table border=\"1\" class=\"dataframe\">\n",
       "  <thead>\n",
       "    <tr style=\"text-align: right;\">\n",
       "      <th></th>\n",
       "      <th>watchers</th>\n",
       "      <th>name</th>\n",
       "    </tr>\n",
       "  </thead>\n",
       "  <tbody>\n",
       "    <tr>\n",
       "      <th>0</th>\n",
       "      <td>csaftoiu</td>\n",
       "      <td>[Annotations, [EXECUTIVE] Merlin, sportsparser...</td>\n",
       "    </tr>\n",
       "    <tr>\n",
       "      <th>1</th>\n",
       "      <td>merlin</td>\n",
       "      <td>[Annotations, [EXECUTIVE] Merlin, sportsparser...</td>\n",
       "    </tr>\n",
       "    <tr>\n",
       "      <th>2</th>\n",
       "      <td>victor</td>\n",
       "      <td>[Annotations, Deepgammon]</td>\n",
       "    </tr>\n",
       "    <tr>\n",
       "      <th>3</th>\n",
       "      <td>jpfarias</td>\n",
       "      <td>[[EXECUTIVE] Merlin, [Web] pm-site, [ID-VERIFY...</td>\n",
       "    </tr>\n",
       "    <tr>\n",
       "      <th>4</th>\n",
       "      <td>morris</td>\n",
       "      <td>[[EXECUTIVE] Merlin, morris bg data gathering,...</td>\n",
       "    </tr>\n",
       "  </tbody>\n",
       "</table>\n",
       "</div>"
      ],
      "text/plain": [
       "   watchers                                               name\n",
       "0  csaftoiu  [Annotations, [EXECUTIVE] Merlin, sportsparser...\n",
       "1    merlin  [Annotations, [EXECUTIVE] Merlin, sportsparser...\n",
       "2    victor                          [Annotations, Deepgammon]\n",
       "3  jpfarias  [[EXECUTIVE] Merlin, [Web] pm-site, [ID-VERIFY...\n",
       "4    morris  [[EXECUTIVE] Merlin, morris bg data gathering,..."
      ]
     },
     "execution_count": 33,
     "metadata": {},
     "output_type": "execute_result"
    }
   ],
   "source": [
    "watchers.head()"
   ]
  },
  {
   "cell_type": "code",
   "execution_count": null,
   "metadata": {},
   "outputs": [],
   "source": []
  }
 ],
 "metadata": {
  "kernelspec": {
   "display_name": "Python 3",
   "language": "python",
   "name": "python3"
  },
  "language_info": {
   "codemirror_mode": {
    "name": "ipython",
    "version": 3
   },
   "file_extension": ".py",
   "mimetype": "text/x-python",
   "name": "python",
   "nbconvert_exporter": "python",
   "pygments_lexer": "ipython3",
   "version": "3.7.3"
  }
 },
 "nbformat": 4,
 "nbformat_minor": 2
}
